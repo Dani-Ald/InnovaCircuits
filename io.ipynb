{
 "cells": [
  {
   "cell_type": "markdown",
   "metadata": {},
   "source": [
    "# *De este modo obtenemos dos funciones:*\n",
    "\n",
    "***Dominio del tiempo***  \n",
    "$R \\cdot C \\frac{d}{dt} V_c(t) + V_c(t) = V(t)$\n",
    "\n",
    "***Dominio de frecuencia***  \n",
    "$V_c(s) = \\frac{R \\cdot C + 1}{V(s)} + R \\cdot C \\cdot V_c(0)$"
   ]
  },
  {
   "cell_type": "markdown",
   "metadata": {},
   "source": [
    "Sí, los sistemas de ecuaciones diferenciales que describen los circuitos RC son lineales. Esto se debe a que las relaciones entre voltaje y corriente en resistencias y condensadores son lineales:\n",
    "\n",
    "$\n",
    "V = I R \\quad (\\text{lineal en } I \\text{ y } V)\n",
    "$\n",
    "\n",
    "Ley de Ohm: \n",
    "\n",
    "$\n",
    "I_C = C \\frac{dV_C}{dt} \\quad (\\text{lineal en } I_C \\text{ y } \\frac{dV_C}{dt})\n",
    "$\n",
    "\n",
    "Estas relaciones lineales permiten escribir el comportamiento del circuito en términos de ecuaciones diferenciales lineales que pueden representarse con matrices.\n"
   ]
  },
  {
   "cell_type": "markdown",
   "metadata": {},
   "source": [
    "5. Aplicación de la Ley de Kirchhoff  \n",
    "Sustituyendo esta expresión en la ley de Kirchhoff:\n",
    "\n",
    "$\n",
    "V_s(t) = V_R(t) + V_C(t)\n",
    "$\n",
    "\n",
    "tenemos:\n",
    "\n",
    "$\n",
    "V_s(t) = R C \\frac{dV_C(t)}{dt} + V_C(t)\n",
    "$\n",
    "\n",
    "6. Ecuación diferencial  \n",
    "Reorganizamos esta ecuación para obtener una ecuación diferencial de primer orden para el voltaje en el capacitor $V_C(t)\n",
    "$\n",
    "\n",
    "$\n",
    "\\frac{dV_C(t)}{dt} + \\frac{1}{RC} V_C(t) = \\frac{1}{RC} V_s(t)\n",
    "$\n"
   ]
  },
  {
   "cell_type": "markdown",
   "metadata": {},
   "source": [
    "Esta es una ecuación diferencial lineal de primer orden. La constante de tiempo del circuito es $\\tau = RC$, y la ecuación describe cómo el voltaje en el capacitor $V_C(t)$ evoluciona con el tiempo en respuesta a la fuente de voltaje $V_s(t)$.\n"
   ]
  },
  {
   "cell_type": "markdown",
   "metadata": {},
   "source": [
    "<style>\n",
    "    .cocomat {\n",
    "        font-family: \"Cocomat Pro\", sans-serif;\n",
    "    }\n",
    "</style>\n",
    "\n",
    "<p class=\"cocomat\">\n",
    "    Esta es una ecuación diferencial lineal de primer orden. La constante de tiempo del circuito es \n",
    "    $$\\tau = RC$$, y la ecuación describe cómo el voltaje en el capacitor \n",
    "    $$V_C(t)$$ evoluciona con el tiempo en respuesta a la fuente de voltaje \n",
    "    $$V_s(t)$$.\n",
    "</p>\n"
   ]
  },
  {
   "cell_type": "markdown",
   "metadata": {},
   "source": []
  }
 ],
 "metadata": {
  "language_info": {
   "name": "python"
  }
 },
 "nbformat": 4,
 "nbformat_minor": 2
}
